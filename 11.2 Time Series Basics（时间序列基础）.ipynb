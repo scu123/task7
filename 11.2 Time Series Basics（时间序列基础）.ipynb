{
 "cells": [
  {
   "cell_type": "markdown",
   "metadata": {},
   "source": [
    "# 11.2 Time Series Basics（时间序列基础）\n",
    "\n",
    "在pandas中，一个基本的时间序列对象，是一个用时间戳作为索引的Series，在pandas外部的话，通常是用python 字符串或datetime对象来表示的："
   ]
  },
  {
   "cell_type": "code",
   "execution_count": 1,
   "metadata": {},
   "outputs": [],
   "source": [
    "import pandas as pd\n",
    "import numpy as np\n",
    "from datetime import datetime"
   ]
  },
  {
   "cell_type": "code",
   "execution_count": 2,
   "metadata": {},
   "outputs": [],
   "source": [
    "dates = [datetime(2011, 1, 2), datetime(2011, 1, 5),\n",
    "         datetime(2011, 1, 7), datetime(2011, 1, 8), \n",
    "         datetime(2011, 1, 10), datetime(2011, 1, 12)]"
   ]
  },
  {
   "cell_type": "code",
   "execution_count": 3,
   "metadata": {},
   "outputs": [
    {
     "data": {
      "text/plain": [
       "2011-01-02    0.025435\n",
       "2011-01-05   -1.114448\n",
       "2011-01-07   -1.088135\n",
       "2011-01-08    0.767476\n",
       "2011-01-10    1.324203\n",
       "2011-01-12   -0.131522\n",
       "dtype: float64"
      ]
     },
     "execution_count": 3,
     "metadata": {},
     "output_type": "execute_result"
    }
   ],
   "source": [
    "ts = pd.Series(np.random.randn(6), index=dates)\n",
    "ts"
   ]
  },
  {
   "cell_type": "markdown",
   "metadata": {},
   "source": [
    "上面的转化原理是，datetime对象被放进了DatetimeIndex:"
   ]
  },
  {
   "cell_type": "code",
   "execution_count": 4,
   "metadata": {},
   "outputs": [
    {
     "data": {
      "text/plain": [
       "DatetimeIndex(['2011-01-02', '2011-01-05', '2011-01-07', '2011-01-08',\n",
       "               '2011-01-10', '2011-01-12'],\n",
       "              dtype='datetime64[ns]', freq=None)"
      ]
     },
     "execution_count": 4,
     "metadata": {},
     "output_type": "execute_result"
    }
   ],
   "source": [
    "ts.index"
   ]
  },
  {
   "cell_type": "markdown",
   "metadata": {},
   "source": [
    "像其他的Series一行，数值原色会自动按时间序列索引进行对齐："
   ]
  },
  {
   "cell_type": "code",
   "execution_count": 5,
   "metadata": {},
   "outputs": [
    {
     "data": {
      "text/plain": [
       "2011-01-02    0.025435\n",
       "2011-01-07   -1.088135\n",
       "2011-01-10    1.324203\n",
       "dtype: float64"
      ]
     },
     "execution_count": 5,
     "metadata": {},
     "output_type": "execute_result"
    }
   ],
   "source": [
    "ts[::2]"
   ]
  },
  {
   "cell_type": "code",
   "execution_count": 6,
   "metadata": {},
   "outputs": [
    {
     "data": {
      "text/plain": [
       "2011-01-02    0.050871\n",
       "2011-01-05         NaN\n",
       "2011-01-07   -2.176269\n",
       "2011-01-08         NaN\n",
       "2011-01-10    2.648406\n",
       "2011-01-12         NaN\n",
       "dtype: float64"
      ]
     },
     "execution_count": 6,
     "metadata": {},
     "output_type": "execute_result"
    }
   ],
   "source": [
    "ts + ts[::2]"
   ]
  },
  {
   "cell_type": "markdown",
   "metadata": {},
   "source": [
    "ts[::2]会在ts中，每隔两个元素选一个元素。\n",
    "\n",
    "pandas中的时间戳，是按numpy中的datetime64数据类型进行保存的，可以精确到纳秒的级别："
   ]
  },
  {
   "cell_type": "code",
   "execution_count": 7,
   "metadata": {},
   "outputs": [
    {
     "data": {
      "text/plain": [
       "dtype('<M8[ns]')"
      ]
     },
     "execution_count": 7,
     "metadata": {},
     "output_type": "execute_result"
    }
   ],
   "source": [
    "ts.index.dtype"
   ]
  },
  {
   "cell_type": "markdown",
   "metadata": {},
   "source": [
    "DatetimeIndex的标量是pandas的Timestamp对象："
   ]
  },
  {
   "cell_type": "code",
   "execution_count": 8,
   "metadata": {},
   "outputs": [
    {
     "data": {
      "text/plain": [
       "Timestamp('2011-01-02 00:00:00')"
      ]
     },
     "execution_count": 8,
     "metadata": {},
     "output_type": "execute_result"
    }
   ],
   "source": [
    "stamp = ts.index[0]\n",
    "stamp"
   ]
  },
  {
   "cell_type": "markdown",
   "metadata": {},
   "source": [
    "Timestamp可以在任何地方用datetime对象进行替换。\n",
    "\n",
    "# 1 Indexing, Selection, Subsetting（索引，选择，取子集）\n",
    "\n",
    "当我们基于标签进行索引和选择时，时间序列就像是pandas.Series："
   ]
  },
  {
   "cell_type": "code",
   "execution_count": 9,
   "metadata": {},
   "outputs": [
    {
     "data": {
      "text/plain": [
       "2011-01-02    0.025435\n",
       "2011-01-05   -1.114448\n",
       "2011-01-07   -1.088135\n",
       "2011-01-08    0.767476\n",
       "2011-01-10    1.324203\n",
       "2011-01-12   -0.131522\n",
       "dtype: float64"
      ]
     },
     "execution_count": 9,
     "metadata": {},
     "output_type": "execute_result"
    }
   ],
   "source": [
    "ts"
   ]
  },
  {
   "cell_type": "code",
   "execution_count": 10,
   "metadata": {},
   "outputs": [],
   "source": [
    "stamp = ts.index[2]"
   ]
  },
  {
   "cell_type": "code",
   "execution_count": 11,
   "metadata": {},
   "outputs": [
    {
     "data": {
      "text/plain": [
       "-1.0881347493871827"
      ]
     },
     "execution_count": 11,
     "metadata": {},
     "output_type": "execute_result"
    }
   ],
   "source": [
    "ts[stamp]"
   ]
  },
  {
   "cell_type": "markdown",
   "metadata": {},
   "source": [
    "为了方便，我们可以直接传入一个字符串用来表示日期："
   ]
  },
  {
   "cell_type": "code",
   "execution_count": 12,
   "metadata": {},
   "outputs": [
    {
     "data": {
      "text/plain": [
       "1.324202900659826"
      ]
     },
     "execution_count": 12,
     "metadata": {},
     "output_type": "execute_result"
    }
   ],
   "source": [
    "ts['1/10/2011']"
   ]
  },
  {
   "cell_type": "code",
   "execution_count": 13,
   "metadata": {},
   "outputs": [
    {
     "data": {
      "text/plain": [
       "1.324202900659826"
      ]
     },
     "execution_count": 13,
     "metadata": {},
     "output_type": "execute_result"
    }
   ],
   "source": [
    "ts['20110110']"
   ]
  },
  {
   "cell_type": "markdown",
   "metadata": {},
   "source": [
    "对于比较长的时间序列，我们可以直接传入一年或一年一个月，来进行数据选取："
   ]
  },
  {
   "cell_type": "code",
   "execution_count": 14,
   "metadata": {},
   "outputs": [
    {
     "data": {
      "text/plain": [
       "2000-01-01   -0.379845\n",
       "2000-01-02   -1.298660\n",
       "2000-01-03   -0.893993\n",
       "2000-01-04   -0.964604\n",
       "2000-01-05   -0.954546\n",
       "2000-01-06   -0.598283\n",
       "2000-01-07    1.145359\n",
       "2000-01-08    0.942578\n",
       "2000-01-09    0.958636\n",
       "2000-01-10    1.947841\n",
       "2000-01-11   -0.227763\n",
       "2000-01-12    0.383774\n",
       "2000-01-13   -1.508759\n",
       "2000-01-14   -0.418396\n",
       "2000-01-15    2.072546\n",
       "2000-01-16   -0.946572\n",
       "2000-01-17    0.313601\n",
       "2000-01-18   -0.258638\n",
       "2000-01-19   -1.231985\n",
       "2000-01-20   -1.495832\n",
       "2000-01-21   -1.498773\n",
       "2000-01-22    0.602056\n",
       "2000-01-23    1.889076\n",
       "2000-01-24    0.832943\n",
       "2000-01-25   -0.429162\n",
       "2000-01-26    1.374411\n",
       "2000-01-27    0.122448\n",
       "2000-01-28    0.415741\n",
       "2000-01-29   -1.614026\n",
       "2000-01-30    0.005310\n",
       "                ...   \n",
       "2002-08-28    0.137185\n",
       "2002-08-29    0.357340\n",
       "2002-08-30   -0.385203\n",
       "2002-08-31   -0.538060\n",
       "2002-09-01   -0.528917\n",
       "2002-09-02   -1.434767\n",
       "2002-09-03   -1.158592\n",
       "2002-09-04   -0.386925\n",
       "2002-09-05    0.176856\n",
       "2002-09-06    0.017353\n",
       "2002-09-07    0.157153\n",
       "2002-09-08   -0.041555\n",
       "2002-09-09   -0.809714\n",
       "2002-09-10   -1.415620\n",
       "2002-09-11   -0.265198\n",
       "2002-09-12    0.580433\n",
       "2002-09-13   -1.941617\n",
       "2002-09-14   -0.486927\n",
       "2002-09-15   -0.269481\n",
       "2002-09-16    0.027487\n",
       "2002-09-17    0.929258\n",
       "2002-09-18    0.699630\n",
       "2002-09-19    0.094690\n",
       "2002-09-20    1.008646\n",
       "2002-09-21    0.621762\n",
       "2002-09-22    2.867894\n",
       "2002-09-23    0.278644\n",
       "2002-09-24    0.971269\n",
       "2002-09-25   -0.007389\n",
       "2002-09-26   -0.180689\n",
       "Freq: D, Length: 1000, dtype: float64"
      ]
     },
     "execution_count": 14,
     "metadata": {},
     "output_type": "execute_result"
    }
   ],
   "source": [
    "longer_ts = pd.Series(np.random.randn(1000),\n",
    "                      index=pd.date_range('1/1/2000', periods=1000))\n",
    "longer_ts"
   ]
  },
  {
   "cell_type": "code",
   "execution_count": 15,
   "metadata": {},
   "outputs": [
    {
     "data": {
      "text/plain": [
       "2001-01-01   -0.998390\n",
       "2001-01-02   -1.687655\n",
       "2001-01-03    1.064079\n",
       "2001-01-04   -1.324456\n",
       "2001-01-05   -0.158792\n",
       "2001-01-06   -0.910289\n",
       "2001-01-07    1.122474\n",
       "2001-01-08    0.591065\n",
       "2001-01-09   -0.171404\n",
       "2001-01-10    1.022657\n",
       "2001-01-11    0.456984\n",
       "2001-01-12   -1.312784\n",
       "2001-01-13    0.737419\n",
       "2001-01-14    1.309602\n",
       "2001-01-15    2.117640\n",
       "2001-01-16    0.216930\n",
       "2001-01-17    1.187940\n",
       "2001-01-18    1.206902\n",
       "2001-01-19   -0.053970\n",
       "2001-01-20   -0.172110\n",
       "2001-01-21    1.548288\n",
       "2001-01-22    2.101209\n",
       "2001-01-23    0.152660\n",
       "2001-01-24    1.323908\n",
       "2001-01-25    0.394168\n",
       "2001-01-26   -0.145509\n",
       "2001-01-27   -1.141089\n",
       "2001-01-28    0.517972\n",
       "2001-01-29   -0.077372\n",
       "2001-01-30   -1.032074\n",
       "                ...   \n",
       "2001-12-02   -0.980038\n",
       "2001-12-03   -0.557246\n",
       "2001-12-04   -0.673834\n",
       "2001-12-05   -2.216628\n",
       "2001-12-06   -0.525384\n",
       "2001-12-07    0.658106\n",
       "2001-12-08    1.304198\n",
       "2001-12-09   -1.103472\n",
       "2001-12-10    0.812964\n",
       "2001-12-11    0.382879\n",
       "2001-12-12    1.519063\n",
       "2001-12-13   -0.521908\n",
       "2001-12-14   -1.087704\n",
       "2001-12-15   -0.536617\n",
       "2001-12-16   -0.315026\n",
       "2001-12-17    0.383050\n",
       "2001-12-18    1.862825\n",
       "2001-12-19   -0.796133\n",
       "2001-12-20    0.260526\n",
       "2001-12-21   -0.441081\n",
       "2001-12-22   -0.215053\n",
       "2001-12-23    1.877129\n",
       "2001-12-24   -0.603914\n",
       "2001-12-25    0.849141\n",
       "2001-12-26   -0.174249\n",
       "2001-12-27   -1.117844\n",
       "2001-12-28   -0.797378\n",
       "2001-12-29    0.155252\n",
       "2001-12-30    0.388647\n",
       "2001-12-31    0.663319\n",
       "Freq: D, Length: 365, dtype: float64"
      ]
     },
     "execution_count": 15,
     "metadata": {},
     "output_type": "execute_result"
    }
   ],
   "source": [
    "longer_ts['2001']"
   ]
  },
  {
   "cell_type": "markdown",
   "metadata": {},
   "source": [
    "这里，字符串'2001'就直接被解析为一年，然后选中这个时期的数据。我们也可以指定月份："
   ]
  },
  {
   "cell_type": "code",
   "execution_count": 16,
   "metadata": {},
   "outputs": [
    {
     "data": {
      "text/plain": [
       "2001-05-01    0.218134\n",
       "2001-05-02   -0.310297\n",
       "2001-05-03    0.331231\n",
       "2001-05-04   -0.087658\n",
       "2001-05-05    0.436195\n",
       "2001-05-06   -0.390576\n",
       "2001-05-07    0.017918\n",
       "2001-05-08    0.891836\n",
       "2001-05-09   -0.500486\n",
       "2001-05-10    0.096207\n",
       "2001-05-11    0.479083\n",
       "2001-05-12   -0.497008\n",
       "2001-05-13   -0.524715\n",
       "2001-05-14   -0.701695\n",
       "2001-05-15   -0.908180\n",
       "2001-05-16   -0.348267\n",
       "2001-05-17    0.517769\n",
       "2001-05-18    1.863125\n",
       "2001-05-19    0.617462\n",
       "2001-05-20    0.422309\n",
       "2001-05-21   -1.443255\n",
       "2001-05-22   -0.236599\n",
       "2001-05-23    0.346252\n",
       "2001-05-24    0.618586\n",
       "2001-05-25   -0.524429\n",
       "2001-05-26    0.637954\n",
       "2001-05-27    0.970810\n",
       "2001-05-28    0.222774\n",
       "2001-05-29    1.400135\n",
       "2001-05-30    2.104010\n",
       "2001-05-31    0.910560\n",
       "Freq: D, dtype: float64"
      ]
     },
     "execution_count": 16,
     "metadata": {},
     "output_type": "execute_result"
    }
   ],
   "source": [
    "longer_ts['2001-05']"
   ]
  },
  {
   "cell_type": "markdown",
   "metadata": {},
   "source": [
    "利用datetime进行切片（slicing）也没问题："
   ]
  },
  {
   "cell_type": "code",
   "execution_count": 17,
   "metadata": {},
   "outputs": [
    {
     "data": {
      "text/plain": [
       "-1.0881347493871827"
      ]
     },
     "execution_count": 17,
     "metadata": {},
     "output_type": "execute_result"
    }
   ],
   "source": [
    "ts[datetime(2011, 1, 7)]"
   ]
  },
  {
   "cell_type": "markdown",
   "metadata": {},
   "source": [
    "因为大部分时间序列是按年代时间顺序来排列的，我们可以用时间戳来进行切片，选中一段范围内的时间："
   ]
  },
  {
   "cell_type": "code",
   "execution_count": 18,
   "metadata": {},
   "outputs": [
    {
     "data": {
      "text/plain": [
       "2011-01-02    0.025435\n",
       "2011-01-05   -1.114448\n",
       "2011-01-07   -1.088135\n",
       "2011-01-08    0.767476\n",
       "2011-01-10    1.324203\n",
       "2011-01-12   -0.131522\n",
       "dtype: float64"
      ]
     },
     "execution_count": 18,
     "metadata": {},
     "output_type": "execute_result"
    }
   ],
   "source": [
    "ts"
   ]
  },
  {
   "cell_type": "code",
   "execution_count": 19,
   "metadata": {},
   "outputs": [
    {
     "data": {
      "text/plain": [
       "2011-01-07   -1.088135\n",
       "2011-01-08    0.767476\n",
       "2011-01-10    1.324203\n",
       "dtype: float64"
      ]
     },
     "execution_count": 19,
     "metadata": {},
     "output_type": "execute_result"
    }
   ],
   "source": [
    "ts['1/6/2011':'1/11/2011']"
   ]
  },
  {
   "cell_type": "markdown",
   "metadata": {},
   "source": [
    "记住，这种方式的切片得到的只是原来数据的一个视图，如果我们在切片的结果上进行更改的的，原来的数据也会变化。\n",
    "\n",
    "有一个相等的实例方法（instance method）也能切片，truncate，能在两个日期上，对Series进行切片："
   ]
  },
  {
   "cell_type": "code",
   "execution_count": 20,
   "metadata": {
    "scrolled": true
   },
   "outputs": [
    {
     "data": {
      "text/plain": [
       "2011-01-02    0.025435\n",
       "2011-01-05   -1.114448\n",
       "2011-01-07   -1.088135\n",
       "2011-01-08    0.767476\n",
       "dtype: float64"
      ]
     },
     "execution_count": 20,
     "metadata": {},
     "output_type": "execute_result"
    }
   ],
   "source": [
    "ts.truncate(after='1/9/2011')"
   ]
  },
  {
   "cell_type": "markdown",
   "metadata": {},
   "source": [
    "所有这些都适用于DataFrame，我们对行进行索引："
   ]
  },
  {
   "cell_type": "code",
   "execution_count": 21,
   "metadata": {},
   "outputs": [],
   "source": [
    "dates = pd.date_range('1/1/2000', periods=100, freq='W-WED')"
   ]
  },
  {
   "cell_type": "code",
   "execution_count": 22,
   "metadata": {},
   "outputs": [],
   "source": [
    "long_df = pd.DataFrame(np.random.randn(100, 4),\n",
    "                       index=dates,\n",
    "                       columns=['Colorado', 'Texas',\n",
    "                                'New York', 'Ohio'])"
   ]
  },
  {
   "cell_type": "code",
   "execution_count": 23,
   "metadata": {},
   "outputs": [
    {
     "data": {
      "text/html": [
       "<div>\n",
       "<style scoped>\n",
       "    .dataframe tbody tr th:only-of-type {\n",
       "        vertical-align: middle;\n",
       "    }\n",
       "\n",
       "    .dataframe tbody tr th {\n",
       "        vertical-align: top;\n",
       "    }\n",
       "\n",
       "    .dataframe thead th {\n",
       "        text-align: right;\n",
       "    }\n",
       "</style>\n",
       "<table border=\"1\" class=\"dataframe\">\n",
       "  <thead>\n",
       "    <tr style=\"text-align: right;\">\n",
       "      <th></th>\n",
       "      <th>Colorado</th>\n",
       "      <th>Texas</th>\n",
       "      <th>New York</th>\n",
       "      <th>Ohio</th>\n",
       "    </tr>\n",
       "  </thead>\n",
       "  <tbody>\n",
       "    <tr>\n",
       "      <th>2001-05-02</th>\n",
       "      <td>-1.456652</td>\n",
       "      <td>-1.324286</td>\n",
       "      <td>-0.279348</td>\n",
       "      <td>1.045905</td>\n",
       "    </tr>\n",
       "    <tr>\n",
       "      <th>2001-05-09</th>\n",
       "      <td>-0.850585</td>\n",
       "      <td>0.513576</td>\n",
       "      <td>-0.082321</td>\n",
       "      <td>1.410633</td>\n",
       "    </tr>\n",
       "    <tr>\n",
       "      <th>2001-05-16</th>\n",
       "      <td>-2.381799</td>\n",
       "      <td>0.711073</td>\n",
       "      <td>1.436283</td>\n",
       "      <td>0.679508</td>\n",
       "    </tr>\n",
       "    <tr>\n",
       "      <th>2001-05-23</th>\n",
       "      <td>-2.487292</td>\n",
       "      <td>0.709146</td>\n",
       "      <td>0.393318</td>\n",
       "      <td>0.931982</td>\n",
       "    </tr>\n",
       "    <tr>\n",
       "      <th>2001-05-30</th>\n",
       "      <td>1.137026</td>\n",
       "      <td>1.035017</td>\n",
       "      <td>0.044617</td>\n",
       "      <td>-1.368798</td>\n",
       "    </tr>\n",
       "  </tbody>\n",
       "</table>\n",
       "</div>"
      ],
      "text/plain": [
       "            Colorado     Texas  New York      Ohio\n",
       "2001-05-02 -1.456652 -1.324286 -0.279348  1.045905\n",
       "2001-05-09 -0.850585  0.513576 -0.082321  1.410633\n",
       "2001-05-16 -2.381799  0.711073  1.436283  0.679508\n",
       "2001-05-23 -2.487292  0.709146  0.393318  0.931982\n",
       "2001-05-30  1.137026  1.035017  0.044617 -1.368798"
      ]
     },
     "execution_count": 23,
     "metadata": {},
     "output_type": "execute_result"
    }
   ],
   "source": [
    "long_df.loc['5-2001']"
   ]
  },
  {
   "cell_type": "markdown",
   "metadata": {},
   "source": [
    "# 2 Time Series with Duplicate Indices（重复索引的时间序列）\n",
    "\n",
    "在某些数据中，可能会遇到多个数据在同一时间戳下的情况："
   ]
  },
  {
   "cell_type": "code",
   "execution_count": 24,
   "metadata": {},
   "outputs": [],
   "source": [
    "dates = pd.DatetimeIndex(['1/1/2000', '1/2/2000', '1/2/2000', \n",
    "                          '1/2/2000', '1/3/2000'])"
   ]
  },
  {
   "cell_type": "code",
   "execution_count": 25,
   "metadata": {},
   "outputs": [
    {
     "data": {
      "text/plain": [
       "2000-01-01    0\n",
       "2000-01-02    1\n",
       "2000-01-02    2\n",
       "2000-01-02    3\n",
       "2000-01-03    4\n",
       "dtype: int32"
      ]
     },
     "execution_count": 25,
     "metadata": {},
     "output_type": "execute_result"
    }
   ],
   "source": [
    "dup_ts = pd.Series(np.arange(5), index=dates)\n",
    "dup_ts"
   ]
  },
  {
   "cell_type": "markdown",
   "metadata": {},
   "source": [
    "我们通过is_unique属性来查看index是否是唯一值："
   ]
  },
  {
   "cell_type": "code",
   "execution_count": 26,
   "metadata": {},
   "outputs": [
    {
     "data": {
      "text/plain": [
       "False"
      ]
     },
     "execution_count": 26,
     "metadata": {},
     "output_type": "execute_result"
    }
   ],
   "source": [
    "dup_ts.index.is_unique"
   ]
  },
  {
   "cell_type": "markdown",
   "metadata": {},
   "source": [
    "对这个时间序列取索引的的话， 要么得到标量，要么得到切片，这取决于时间戳是否是重复的："
   ]
  },
  {
   "cell_type": "code",
   "execution_count": 27,
   "metadata": {},
   "outputs": [
    {
     "data": {
      "text/plain": [
       "4"
      ]
     },
     "execution_count": 27,
     "metadata": {},
     "output_type": "execute_result"
    }
   ],
   "source": [
    "dup_ts['1/3/2000'] # not duplicated"
   ]
  },
  {
   "cell_type": "code",
   "execution_count": 28,
   "metadata": {},
   "outputs": [
    {
     "data": {
      "text/plain": [
       "2000-01-02    1\n",
       "2000-01-02    2\n",
       "2000-01-02    3\n",
       "dtype: int32"
      ]
     },
     "execution_count": 28,
     "metadata": {},
     "output_type": "execute_result"
    }
   ],
   "source": [
    "dup_ts['1/2/2000'] # duplicated"
   ]
  },
  {
   "cell_type": "markdown",
   "metadata": {},
   "source": [
    "假设我们想要聚合那些有重复时间戳的数据，一种方法是用groupby，设定level=0："
   ]
  },
  {
   "cell_type": "code",
   "execution_count": 29,
   "metadata": {},
   "outputs": [
    {
     "data": {
      "text/plain": [
       "2000-01-01    0\n",
       "2000-01-02    2\n",
       "2000-01-03    4\n",
       "dtype: int32"
      ]
     },
     "execution_count": 29,
     "metadata": {},
     "output_type": "execute_result"
    }
   ],
   "source": [
    "grouped = dup_ts.groupby(level=0)\n",
    "grouped.mean()"
   ]
  },
  {
   "cell_type": "code",
   "execution_count": 30,
   "metadata": {},
   "outputs": [
    {
     "data": {
      "text/plain": [
       "2000-01-01    1\n",
       "2000-01-02    3\n",
       "2000-01-03    1\n",
       "dtype: int64"
      ]
     },
     "execution_count": 30,
     "metadata": {},
     "output_type": "execute_result"
    }
   ],
   "source": [
    "grouped.count()"
   ]
  },
  {
   "cell_type": "code",
   "execution_count": null,
   "metadata": {},
   "outputs": [],
   "source": []
  },
  {
   "cell_type": "code",
   "execution_count": null,
   "metadata": {},
   "outputs": [],
   "source": []
  },
  {
   "cell_type": "code",
   "execution_count": null,
   "metadata": {},
   "outputs": [],
   "source": []
  }
 ],
 "metadata": {
  "kernelspec": {
   "display_name": "Python 3",
   "language": "python",
   "name": "python3"
  },
  "language_info": {
   "codemirror_mode": {
    "name": "ipython",
    "version": 3
   },
   "file_extension": ".py",
   "mimetype": "text/x-python",
   "name": "python",
   "nbconvert_exporter": "python",
   "pygments_lexer": "ipython3",
   "version": "3.7.2"
  }
 },
 "nbformat": 4,
 "nbformat_minor": 1
}
